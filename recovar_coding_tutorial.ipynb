{
 "cells": [
  {
   "cell_type": "code",
   "execution_count": 1,
   "metadata": {},
   "outputs": [
    {
     "name": "stdout",
     "output_type": "stream",
     "text": [
      "(INFO) (ctf.py) (16-Oct-23 16:36:51) Image size (pix)  : 128\n",
      "(INFO) (ctf.py) (16-Oct-23 16:36:51) A/pix             : 6.0\n",
      "(INFO) (ctf.py) (16-Oct-23 16:36:51) DefocusU (A)      : 26795.69921875\n",
      "(INFO) (ctf.py) (16-Oct-23 16:36:51) DefocusV (A)      : 26795.69921875\n",
      "(INFO) (ctf.py) (16-Oct-23 16:36:51) Dfang (deg)       : 0.0\n",
      "(INFO) (ctf.py) (16-Oct-23 16:36:51) voltage (kV)      : 300.0\n",
      "(INFO) (ctf.py) (16-Oct-23 16:36:51) cs (mm)           : 2.0\n",
      "(INFO) (ctf.py) (16-Oct-23 16:36:51) w                 : 0.10000000149011612\n",
      "(INFO) (ctf.py) (16-Oct-23 16:36:51) Phase shift (deg) : 0.0\n"
     ]
    }
   ],
   "source": [
    "# Here is a short tutorial in case you want to use the code.\n",
    "\n",
    "# If you want to extend and use recovar, you should import this first\n",
    "import recovar.config\n",
    "\n",
    "from recovar import dataset\n",
    "from recovar.fourier_transform_utils import fourier_transform_utils\n",
    "import jax\n",
    "# Fourier transform utils version that runs on GPU by default (if you have one). If you pass numpy instead, it will run on cpu.\n",
    "ftu = fourier_transform_utils(jax.numpy) \n",
    "\n",
    "dataset_dict = dataset.get_default_dataset_option()\n",
    "\n",
    "# Fill these options with the path to preprocessed files\n",
    "experiment_directory = '/home/mg6942/mytigress/uniform/'\n",
    "dataset_dict['ctf_file'] = experiment_directory + 'ctf.pkl'\n",
    "dataset_dict['poses_file'] = experiment_directory + 'poses.pkl'\n",
    "dataset_dict['particles_file'] = experiment_directory + 'particles.128.mrcs'\n",
    "\n",
    "# Returns an object that knows everything about the dataset.\n",
    "cryo_dataset = dataset.load_dataset_from_dict(dataset_dict)"
   ]
  },
  {
   "cell_type": "code",
   "execution_count": 2,
   "metadata": {},
   "outputs": [],
   "source": [
    "import numpy as np\n",
    "import jax.numpy as jnp\n",
    "# Run code on GPU (if you have one), in batch of 1000\n",
    "batch_size = 1000\n",
    "# Iterator used to send data in batch to GPU.\n",
    "dataset_iterator = cryo_dataset.get_dataset_generator(batch_size=batch_size) \n",
    "\n",
    "new_stack = np.empty([cryo_dataset.n_images, *cryo_dataset.image_shape])\n",
    "weiner_param = 1\n",
    "\n",
    "# Running code on GPU with JAX is very easy. By default, any jax.numpy.array will be allocated on GPU,\n",
    "# and can be used like a normal numpy.array to do operations on GPU. Once you want to send back to CPU,\n",
    "# either do jax.device_put(array, device = jax.devices(\"cpu\")[0]) or pass it to a numpy array.\n",
    "\n",
    "# Here is a simple example: CTF correcting an image stack \n",
    "for images, batch_image_ind in dataset_iterator:\n",
    "    # images are still on CPU at this point. you can do jnp.array(images) to send them to GPU explicitly, or they will be sent to GPU by any of the functions below.\n",
    "\n",
    "    # Do some computation on GPU    \n",
    "    CTFs = cryo_dataset.CTF_fun(cryo_dataset.CTF_params[batch_image_ind], cryo_dataset.image_shape, cryo_dataset.voxel_size) # Compute CTF\n",
    "    images = cryo_dataset.image_stack.process_images(images) # Compute DFT, masking\n",
    "    CTF_corrected_images = (CTFs / (CTFs**2 + weiner_param)) * images  # CTF correction\n",
    "    \n",
    "    CTF_corrected_images_real = ftu.get_idft2(CTF_corrected_images.reshape(CTF_corrected_images.shape[0], *cryo_dataset.image_shape )) # Back to real domain\n",
    "\n",
    "    # Send back to CPU\n",
    "    new_stack[batch_image_ind] = np.array(CTF_corrected_images_real.real)\n",
    "\n"
   ]
  },
  {
   "cell_type": "code",
   "execution_count": null,
   "metadata": {},
   "outputs": [],
   "source": [
    "# In recovar.core, you will find functions to do all the basic cryo-EM operations, in batches for GPU: \n",
    "import recovar.core as core\n",
    "core.translate_images() \n",
    "core.get_slices() # Slice a volume \n",
    "core.sum_batch_P_adjoint_mat_vec() # Summed adjoint of slicing: v = \\sum_i P_i^* im_i for some im_i\n",
    "core.batch_compute_ctf_crydgrn() # CTF function\n"
   ]
  }
 ],
 "metadata": {
  "kernelspec": {
   "display_name": "recovar2 [~/.conda/envs/recovar2/]",
   "language": "python",
   "name": "conda_recovar2"
  },
  "language_info": {
   "codemirror_mode": {
    "name": "ipython",
    "version": 3
   },
   "file_extension": ".py",
   "mimetype": "text/x-python",
   "name": "python",
   "nbconvert_exporter": "python",
   "pygments_lexer": "ipython3",
   "version": "3.9.18"
  }
 },
 "nbformat": 4,
 "nbformat_minor": 4
}
