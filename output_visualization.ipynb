{
 "cells": [
  {
   "cell_type": "code",
   "execution_count": 1,
   "metadata": {},
   "outputs": [
    {
     "name": "stdout",
     "output_type": "stream",
     "text": [
      "(INFO) (dataset.py) (11-Oct-23 17:02:18) Loading halfset from file\n",
      "(INFO) (ctf.py) (11-Oct-23 17:02:59) Image size (pix)  : 256\n",
      "(INFO) (ctf.py) (11-Oct-23 17:02:59) A/pix             : 1.6375000476837158\n",
      "(INFO) (ctf.py) (11-Oct-23 17:02:59) DefocusU (A)      : 15301.099609375\n",
      "(INFO) (ctf.py) (11-Oct-23 17:02:59) DefocusV (A)      : 14916.400390625\n",
      "(INFO) (ctf.py) (11-Oct-23 17:02:59) Dfang (deg)       : 5.28000020980835\n",
      "(INFO) (ctf.py) (11-Oct-23 17:02:59) voltage (kV)      : 300.0\n",
      "(INFO) (ctf.py) (11-Oct-23 17:02:59) cs (mm)           : 2.700000047683716\n",
      "(INFO) (ctf.py) (11-Oct-23 17:02:59) w                 : 0.07000000029802322\n",
      "(INFO) (ctf.py) (11-Oct-23 17:02:59) Phase shift (deg) : 0.0\n",
      "(INFO) (ctf.py) (11-Oct-23 17:03:41) Image size (pix)  : 256\n",
      "(INFO) (ctf.py) (11-Oct-23 17:03:41) A/pix             : 1.6375000476837158\n",
      "(INFO) (ctf.py) (11-Oct-23 17:03:41) DefocusU (A)      : 15301.099609375\n",
      "(INFO) (ctf.py) (11-Oct-23 17:03:41) DefocusV (A)      : 14916.400390625\n",
      "(INFO) (ctf.py) (11-Oct-23 17:03:41) Dfang (deg)       : 5.28000020980835\n",
      "(INFO) (ctf.py) (11-Oct-23 17:03:41) voltage (kV)      : 300.0\n",
      "(INFO) (ctf.py) (11-Oct-23 17:03:41) cs (mm)           : 2.700000047683716\n",
      "(INFO) (ctf.py) (11-Oct-23 17:03:41) w                 : 0.07000000029802322\n",
      "(INFO) (ctf.py) (11-Oct-23 17:03:41) Phase shift (deg) : 0.0\n"
     ]
    }
   ],
   "source": [
    "import sys, time, pickle \n",
    "import matplotlib.pyplot as plt\n",
    "import numpy as np\n",
    "import output as o\n",
    "from recovar.fourier_transform_utils import fourier_transform_utils\n",
    "ftu = fourier_transform_utils(np)\n",
    "from recovar import dataset, trajectory, output\n",
    "\n",
    "\n",
    "recovar_result_dir = '/scratch/gpfs/mg6942/cryodrgn_empiar/empiar10076/inputs/recovar_input_3/'\n",
    "results = output.load_results_new(recovar_result_dir)\n",
    "cryos = dataset.load_dataset_from_args(results['input_args'])"
   ]
  },
  {
   "cell_type": "code",
   "execution_count": null,
   "metadata": {},
   "outputs": [],
   "source": []
  }
 ],
 "metadata": {
  "kernelspec": {
   "display_name": "recovar2 [~/.conda/envs/recovar2/]",
   "language": "python",
   "name": "conda_recovar2"
  },
  "language_info": {
   "codemirror_mode": {
    "name": "ipython",
    "version": 3
   },
   "file_extension": ".py",
   "mimetype": "text/x-python",
   "name": "python",
   "nbconvert_exporter": "python",
   "pygments_lexer": "ipython3",
   "version": "3.9.18"
  }
 },
 "nbformat": 4,
 "nbformat_minor": 4
}
